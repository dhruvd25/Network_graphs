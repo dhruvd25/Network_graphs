{
  "nbformat": 4,
  "nbformat_minor": 0,
  "metadata": {
    "colab": {
      "name": "Jun 2018.ipynb",
      "version": "0.3.2",
      "provenance": []
    }
  },
  "cells": [
    {
      "cell_type": "markdown",
      "metadata": {
        "id": "view-in-github",
        "colab_type": "text"
      },
      "source": [
        "[View in Colaboratory](https://colab.research.google.com/github/dhruvd25/Network_graphs/blob/master/Jun_2018.ipynb)"
      ]
    },
    {
      "metadata": {
        "id": "lmeyyIdbou5q",
        "colab_type": "code",
        "colab": {}
      },
      "cell_type": "code",
      "source": [
        "#@Network_Graphs\n",
        "import pandas as pd\n",
        "import numpy as np\n",
        "import matplotlib.pyplot as plt\n",
        "import re\n",
        "import io\n",
        "from patsy import dmatrices\n",
        "from datetime import date\n",
        "import networkx as nx\n",
        "import operator"
      ],
      "execution_count": 0,
      "outputs": []
    },
    {
      "metadata": {
        "id": "-dqMwAs8qNqa",
        "colab_type": "code",
        "colab": {}
      },
      "cell_type": "code",
      "source": [
        "#@title\n",
        "!pip install -U -q PyDrive ## you will have install for every colab session\n",
        "\n",
        "from pydrive.auth import GoogleAuth\n",
        "from pydrive.drive import GoogleDrive\n",
        "from google.colab import auth\n",
        "from oauth2client.client import GoogleCredentials\n",
        "  \n",
        "# 1. Authenticate and create the PyDrive client.\n",
        "auth.authenticate_user()\n",
        "gauth = GoogleAuth()\n",
        "gauth.credentials = GoogleCredentials.get_application_default()\n",
        "drive = GoogleDrive(gauth)\n",
        "\n",
        "#get updated file\n",
        "downloaded2 = drive.CreateFile({'id':'1gqK99TdVOQghnr9qI-N3GxluHGEGnW1P'}) # replace the id with id of file you want to access\n",
        "downloaded2.GetContentFile('2018-5-14 All Contacts.csv')\n",
        "\n",
        "#get updated file\n",
        "downloaded3 = drive.CreateFile({'id':'1QAjakKYvWDBks5iLnYSOaZF0rbOPDOS5'}) # replace the id with id of file you want to access\n",
        "downloaded3.GetContentFile('2018-5-14 All organizations.csv')\n"
      ],
      "execution_count": 0,
      "outputs": []
    },
    {
      "metadata": {
        "id": "Lqwv_Kf4qTzz",
        "colab_type": "code",
        "colab": {}
      },
      "cell_type": "code",
      "source": [
        "#@Read files to pandas df\n",
        "df=pd.read_csv('2018-5-14 All Contacts.csv',sep=',',usecols=['Title','Primary Affiliation'],encoding='latin1')\n",
        "df_d=pd.read_csv('2018-5-14 All organizations.csv',sep=',',usecols=['Organization Name','Organization ID','Type'],encoding='latin1')\n",
        "df=df.merge(df_d,how='left',left_on='Primary Affiliation',right_on='Organization Name').fillna('')"
      ],
      "execution_count": 0,
      "outputs": []
    },
    {
      "metadata": {
        "id": "IbHQpZ3DqlT-",
        "colab_type": "code",
        "colab": {}
      },
      "cell_type": "code",
      "source": [
        "def type_change(x):\n",
        "  type_text = ['Text']\n",
        "  execut = re.compile(\"|\".join(type_text))\n",
        "  if execut.search(x):\n",
        "        return 'University'\n",
        "  else:\n",
        "    return x"
      ],
      "execution_count": 0,
      "outputs": []
    }
  ]
}